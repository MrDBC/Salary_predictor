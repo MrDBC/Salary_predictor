{
 "cells": [
  {
   "cell_type": "code",
   "execution_count": 1,
   "id": "c61a2598",
   "metadata": {},
   "outputs": [],
   "source": [
    "import pandas  as pd\n",
    "import matplotlib.pyplot as plt\n",
    "\n",
    "df = pd.read_csv(\"survey_results_public.csv\")"
   ]
  },
  {
   "cell_type": "code",
   "execution_count": 2,
   "id": "ee11ba0d",
   "metadata": {
    "scrolled": true
   },
   "outputs": [
    {
     "data": {
      "text/html": [
       "<div>\n",
       "<style scoped>\n",
       "    .dataframe tbody tr th:only-of-type {\n",
       "        vertical-align: middle;\n",
       "    }\n",
       "\n",
       "    .dataframe tbody tr th {\n",
       "        vertical-align: top;\n",
       "    }\n",
       "\n",
       "    .dataframe thead th {\n",
       "        text-align: right;\n",
       "    }\n",
       "</style>\n",
       "<table border=\"1\" class=\"dataframe\">\n",
       "  <thead>\n",
       "    <tr style=\"text-align: right;\">\n",
       "      <th></th>\n",
       "      <th>ResponseId</th>\n",
       "      <th>MainBranch</th>\n",
       "      <th>Employment</th>\n",
       "      <th>RemoteWork</th>\n",
       "      <th>CodingActivities</th>\n",
       "      <th>EdLevel</th>\n",
       "      <th>LearnCode</th>\n",
       "      <th>LearnCodeOnline</th>\n",
       "      <th>LearnCodeCoursesCert</th>\n",
       "      <th>YearsCode</th>\n",
       "      <th>...</th>\n",
       "      <th>TimeSearching</th>\n",
       "      <th>TimeAnswering</th>\n",
       "      <th>Onboarding</th>\n",
       "      <th>ProfessionalTech</th>\n",
       "      <th>TrueFalse_1</th>\n",
       "      <th>TrueFalse_2</th>\n",
       "      <th>TrueFalse_3</th>\n",
       "      <th>SurveyLength</th>\n",
       "      <th>SurveyEase</th>\n",
       "      <th>ConvertedCompYearly</th>\n",
       "    </tr>\n",
       "  </thead>\n",
       "  <tbody>\n",
       "    <tr>\n",
       "      <th>0</th>\n",
       "      <td>19913</td>\n",
       "      <td>I am not primarily a developer, but I write co...</td>\n",
       "      <td>I prefer not to say</td>\n",
       "      <td>NaN</td>\n",
       "      <td>NaN</td>\n",
       "      <td>Primary/elementary school</td>\n",
       "      <td>Books / Physical media</td>\n",
       "      <td>NaN</td>\n",
       "      <td>NaN</td>\n",
       "      <td>13</td>\n",
       "      <td>...</td>\n",
       "      <td>15-30 minutes a day</td>\n",
       "      <td>30-60 minutes a day</td>\n",
       "      <td>Very long</td>\n",
       "      <td>Innersource initiative;DevOps function;Microse...</td>\n",
       "      <td>Yes</td>\n",
       "      <td>Yes</td>\n",
       "      <td>Yes</td>\n",
       "      <td>Appropriate in length</td>\n",
       "      <td>Neither easy nor difficult</td>\n",
       "      <td>1.0</td>\n",
       "    </tr>\n",
       "    <tr>\n",
       "      <th>1</th>\n",
       "      <td>39916</td>\n",
       "      <td>I am a developer by profession</td>\n",
       "      <td>Employed, full-time;Independent contractor, fr...</td>\n",
       "      <td>Fully remote</td>\n",
       "      <td>Freelance/contract work;School or academic work</td>\n",
       "      <td>Master’s degree (M.A., M.S., M.Eng., MBA, etc.)</td>\n",
       "      <td>On the job training;Online Courses or Certific...</td>\n",
       "      <td>NaN</td>\n",
       "      <td>Udemy;Pluralsight</td>\n",
       "      <td>15</td>\n",
       "      <td>...</td>\n",
       "      <td>60-120 minutes a day</td>\n",
       "      <td>Over 120 minutes a day</td>\n",
       "      <td>Just right</td>\n",
       "      <td>DevOps function;Microservices;Developer portal...</td>\n",
       "      <td>Yes</td>\n",
       "      <td>Yes</td>\n",
       "      <td>Yes</td>\n",
       "      <td>Too long</td>\n",
       "      <td>Neither easy nor difficult</td>\n",
       "      <td>1.0</td>\n",
       "    </tr>\n",
       "    <tr>\n",
       "      <th>2</th>\n",
       "      <td>52006</td>\n",
       "      <td>I am a developer by profession</td>\n",
       "      <td>Employed, full-time</td>\n",
       "      <td>Hybrid (some remote, some in-person)</td>\n",
       "      <td>Hobby;Bootstrapping a business;Freelance/contr...</td>\n",
       "      <td>Bachelor’s degree (B.A., B.S., B.Eng., etc.)</td>\n",
       "      <td>School (i.e., University, College, etc)</td>\n",
       "      <td>NaN</td>\n",
       "      <td>NaN</td>\n",
       "      <td>7</td>\n",
       "      <td>...</td>\n",
       "      <td>30-60 minutes a day</td>\n",
       "      <td>15-30 minutes a day</td>\n",
       "      <td>Very short</td>\n",
       "      <td>None of these</td>\n",
       "      <td>Yes</td>\n",
       "      <td>Yes</td>\n",
       "      <td>Yes</td>\n",
       "      <td>Appropriate in length</td>\n",
       "      <td>Easy</td>\n",
       "      <td>1.0</td>\n",
       "    </tr>\n",
       "    <tr>\n",
       "      <th>3</th>\n",
       "      <td>64367</td>\n",
       "      <td>I am not primarily a developer, but I write co...</td>\n",
       "      <td>Employed, full-time</td>\n",
       "      <td>Fully remote</td>\n",
       "      <td>Hobby;Other (please specify):</td>\n",
       "      <td>Bachelor’s degree (B.A., B.S., B.Eng., etc.)</td>\n",
       "      <td>Other online resources (e.g., videos, blogs, f...</td>\n",
       "      <td>Technical documentation;Blogs;Video-based Onli...</td>\n",
       "      <td>Coursera;Udemy;Codecademy</td>\n",
       "      <td>2</td>\n",
       "      <td>...</td>\n",
       "      <td>NaN</td>\n",
       "      <td>NaN</td>\n",
       "      <td>NaN</td>\n",
       "      <td>NaN</td>\n",
       "      <td>NaN</td>\n",
       "      <td>NaN</td>\n",
       "      <td>NaN</td>\n",
       "      <td>Too long</td>\n",
       "      <td>Neither easy nor difficult</td>\n",
       "      <td>1.0</td>\n",
       "    </tr>\n",
       "    <tr>\n",
       "      <th>4</th>\n",
       "      <td>65743</td>\n",
       "      <td>I am a developer by profession</td>\n",
       "      <td>Employed, full-time</td>\n",
       "      <td>Fully remote</td>\n",
       "      <td>Hobby;Contribute to open-source projects;Freel...</td>\n",
       "      <td>Master’s degree (M.A., M.S., M.Eng., MBA, etc.)</td>\n",
       "      <td>Books / Physical media;Other online resources ...</td>\n",
       "      <td>Blogs;Written Tutorials;Stack Overflow;Video-b...</td>\n",
       "      <td>Coursera;Udemy;Codecademy;Udacity</td>\n",
       "      <td>8</td>\n",
       "      <td>...</td>\n",
       "      <td>15-30 minutes a day</td>\n",
       "      <td>30-60 minutes a day</td>\n",
       "      <td>Somewhat short</td>\n",
       "      <td>DevOps function;Microservices;Developer portal...</td>\n",
       "      <td>Yes</td>\n",
       "      <td>Yes</td>\n",
       "      <td>Yes</td>\n",
       "      <td>Appropriate in length</td>\n",
       "      <td>Neither easy nor difficult</td>\n",
       "      <td>1.0</td>\n",
       "    </tr>\n",
       "  </tbody>\n",
       "</table>\n",
       "<p>5 rows × 79 columns</p>\n",
       "</div>"
      ],
      "text/plain": [
       "   ResponseId                                         MainBranch  \\\n",
       "0       19913  I am not primarily a developer, but I write co...   \n",
       "1       39916                     I am a developer by profession   \n",
       "2       52006                     I am a developer by profession   \n",
       "3       64367  I am not primarily a developer, but I write co...   \n",
       "4       65743                     I am a developer by profession   \n",
       "\n",
       "                                          Employment  \\\n",
       "0                                I prefer not to say   \n",
       "1  Employed, full-time;Independent contractor, fr...   \n",
       "2                                Employed, full-time   \n",
       "3                                Employed, full-time   \n",
       "4                                Employed, full-time   \n",
       "\n",
       "                             RemoteWork  \\\n",
       "0                                   NaN   \n",
       "1                          Fully remote   \n",
       "2  Hybrid (some remote, some in-person)   \n",
       "3                          Fully remote   \n",
       "4                          Fully remote   \n",
       "\n",
       "                                    CodingActivities  \\\n",
       "0                                                NaN   \n",
       "1    Freelance/contract work;School or academic work   \n",
       "2  Hobby;Bootstrapping a business;Freelance/contr...   \n",
       "3                      Hobby;Other (please specify):   \n",
       "4  Hobby;Contribute to open-source projects;Freel...   \n",
       "\n",
       "                                           EdLevel  \\\n",
       "0                        Primary/elementary school   \n",
       "1  Master’s degree (M.A., M.S., M.Eng., MBA, etc.)   \n",
       "2     Bachelor’s degree (B.A., B.S., B.Eng., etc.)   \n",
       "3     Bachelor’s degree (B.A., B.S., B.Eng., etc.)   \n",
       "4  Master’s degree (M.A., M.S., M.Eng., MBA, etc.)   \n",
       "\n",
       "                                           LearnCode  \\\n",
       "0                             Books / Physical media   \n",
       "1  On the job training;Online Courses or Certific...   \n",
       "2            School (i.e., University, College, etc)   \n",
       "3  Other online resources (e.g., videos, blogs, f...   \n",
       "4  Books / Physical media;Other online resources ...   \n",
       "\n",
       "                                     LearnCodeOnline  \\\n",
       "0                                                NaN   \n",
       "1                                                NaN   \n",
       "2                                                NaN   \n",
       "3  Technical documentation;Blogs;Video-based Onli...   \n",
       "4  Blogs;Written Tutorials;Stack Overflow;Video-b...   \n",
       "\n",
       "                LearnCodeCoursesCert YearsCode  ...         TimeSearching  \\\n",
       "0                                NaN        13  ...   15-30 minutes a day   \n",
       "1                  Udemy;Pluralsight        15  ...  60-120 minutes a day   \n",
       "2                                NaN         7  ...   30-60 minutes a day   \n",
       "3          Coursera;Udemy;Codecademy         2  ...                   NaN   \n",
       "4  Coursera;Udemy;Codecademy;Udacity         8  ...   15-30 minutes a day   \n",
       "\n",
       "            TimeAnswering      Onboarding  \\\n",
       "0     30-60 minutes a day       Very long   \n",
       "1  Over 120 minutes a day      Just right   \n",
       "2     15-30 minutes a day      Very short   \n",
       "3                     NaN             NaN   \n",
       "4     30-60 minutes a day  Somewhat short   \n",
       "\n",
       "                                    ProfessionalTech TrueFalse_1 TrueFalse_2  \\\n",
       "0  Innersource initiative;DevOps function;Microse...         Yes         Yes   \n",
       "1  DevOps function;Microservices;Developer portal...         Yes         Yes   \n",
       "2                                      None of these         Yes         Yes   \n",
       "3                                                NaN         NaN         NaN   \n",
       "4  DevOps function;Microservices;Developer portal...         Yes         Yes   \n",
       "\n",
       "  TrueFalse_3           SurveyLength                  SurveyEase  \\\n",
       "0         Yes  Appropriate in length  Neither easy nor difficult   \n",
       "1         Yes               Too long  Neither easy nor difficult   \n",
       "2         Yes  Appropriate in length                        Easy   \n",
       "3         NaN               Too long  Neither easy nor difficult   \n",
       "4         Yes  Appropriate in length  Neither easy nor difficult   \n",
       "\n",
       "  ConvertedCompYearly  \n",
       "0                 1.0  \n",
       "1                 1.0  \n",
       "2                 1.0  \n",
       "3                 1.0  \n",
       "4                 1.0  \n",
       "\n",
       "[5 rows x 79 columns]"
      ]
     },
     "execution_count": 2,
     "metadata": {},
     "output_type": "execute_result"
    }
   ],
   "source": [
    "df.head()"
   ]
  },
  {
   "cell_type": "code",
   "execution_count": 3,
   "id": "03c040e6",
   "metadata": {},
   "outputs": [
    {
     "name": "stdout",
     "output_type": "stream",
     "text": [
      "ResponseId\n",
      "MainBranch\n",
      "Employment\n",
      "RemoteWork\n",
      "CodingActivities\n",
      "EdLevel\n",
      "LearnCode\n",
      "LearnCodeOnline\n",
      "LearnCodeCoursesCert\n",
      "YearsCode\n",
      "YearsCodePro\n",
      "DevType\n",
      "OrgSize\n",
      "PurchaseInfluence\n",
      "BuyNewTool\n",
      "Country\n",
      "Currency\n",
      "CompTotal\n",
      "CompFreq\n",
      "LanguageHaveWorkedWith\n",
      "LanguageWantToWorkWith\n",
      "DatabaseHaveWorkedWith\n",
      "DatabaseWantToWorkWith\n",
      "PlatformHaveWorkedWith\n",
      "PlatformWantToWorkWith\n",
      "WebframeHaveWorkedWith\n",
      "WebframeWantToWorkWith\n",
      "MiscTechHaveWorkedWith\n",
      "MiscTechWantToWorkWith\n",
      "ToolsTechHaveWorkedWith\n",
      "ToolsTechWantToWorkWith\n",
      "NEWCollabToolsHaveWorkedWith\n",
      "NEWCollabToolsWantToWorkWith\n",
      "OpSysProfessional use\n",
      "OpSysPersonal use\n",
      "VersionControlSystem\n",
      "VCInteraction\n",
      "VCHostingPersonal use\n",
      "VCHostingProfessional use\n",
      "OfficeStackAsyncHaveWorkedWith\n",
      "OfficeStackAsyncWantToWorkWith\n",
      "OfficeStackSyncHaveWorkedWith\n",
      "OfficeStackSyncWantToWorkWith\n",
      "Blockchain\n",
      "NEWSOSites\n",
      "SOVisitFreq\n",
      "SOAccount\n",
      "SOPartFreq\n",
      "SOComm\n",
      "Age\n",
      "Gender\n",
      "Trans\n",
      "Sexuality\n",
      "Ethnicity\n",
      "Accessibility\n",
      "MentalHealth\n",
      "TBranch\n",
      "ICorPM\n",
      "WorkExp\n",
      "Knowledge_1\n",
      "Knowledge_2\n",
      "Knowledge_3\n",
      "Knowledge_4\n",
      "Knowledge_5\n",
      "Knowledge_6\n",
      "Knowledge_7\n",
      "Frequency_1\n",
      "Frequency_2\n",
      "Frequency_3\n",
      "TimeSearching\n",
      "TimeAnswering\n",
      "Onboarding\n",
      "ProfessionalTech\n",
      "TrueFalse_1\n",
      "TrueFalse_2\n",
      "TrueFalse_3\n",
      "SurveyLength\n",
      "SurveyEase\n",
      "ConvertedCompYearly\n"
     ]
    }
   ],
   "source": [
    "for col in df.columns:\n",
    "    print(col)"
   ]
  },
  {
   "cell_type": "code",
   "execution_count": 4,
   "id": "882b53d7",
   "metadata": {},
   "outputs": [
    {
     "data": {
      "text/html": [
       "<div>\n",
       "<style scoped>\n",
       "    .dataframe tbody tr th:only-of-type {\n",
       "        vertical-align: middle;\n",
       "    }\n",
       "\n",
       "    .dataframe tbody tr th {\n",
       "        vertical-align: top;\n",
       "    }\n",
       "\n",
       "    .dataframe thead th {\n",
       "        text-align: right;\n",
       "    }\n",
       "</style>\n",
       "<table border=\"1\" class=\"dataframe\">\n",
       "  <thead>\n",
       "    <tr style=\"text-align: right;\">\n",
       "      <th></th>\n",
       "      <th>Country</th>\n",
       "      <th>EdLevel</th>\n",
       "      <th>YearsCodePro</th>\n",
       "      <th>Employment</th>\n",
       "      <th>Salary</th>\n",
       "    </tr>\n",
       "  </thead>\n",
       "  <tbody>\n",
       "    <tr>\n",
       "      <th>0</th>\n",
       "      <td>Belgium</td>\n",
       "      <td>Primary/elementary school</td>\n",
       "      <td>More than 50 years</td>\n",
       "      <td>I prefer not to say</td>\n",
       "      <td>1.0</td>\n",
       "    </tr>\n",
       "    <tr>\n",
       "      <th>1</th>\n",
       "      <td>India</td>\n",
       "      <td>Master’s degree (M.A., M.S., M.Eng., MBA, etc.)</td>\n",
       "      <td>11</td>\n",
       "      <td>Employed, full-time;Independent contractor, fr...</td>\n",
       "      <td>1.0</td>\n",
       "    </tr>\n",
       "    <tr>\n",
       "      <th>2</th>\n",
       "      <td>Viet Nam</td>\n",
       "      <td>Bachelor’s degree (B.A., B.S., B.Eng., etc.)</td>\n",
       "      <td>5</td>\n",
       "      <td>Employed, full-time</td>\n",
       "      <td>1.0</td>\n",
       "    </tr>\n",
       "    <tr>\n",
       "      <th>3</th>\n",
       "      <td>United States of America</td>\n",
       "      <td>Bachelor’s degree (B.A., B.S., B.Eng., etc.)</td>\n",
       "      <td>Less than 1 year</td>\n",
       "      <td>Employed, full-time</td>\n",
       "      <td>1.0</td>\n",
       "    </tr>\n",
       "    <tr>\n",
       "      <th>4</th>\n",
       "      <td>India</td>\n",
       "      <td>Master’s degree (M.A., M.S., M.Eng., MBA, etc.)</td>\n",
       "      <td>2</td>\n",
       "      <td>Employed, full-time</td>\n",
       "      <td>1.0</td>\n",
       "    </tr>\n",
       "  </tbody>\n",
       "</table>\n",
       "</div>"
      ],
      "text/plain": [
       "                    Country                                          EdLevel  \\\n",
       "0                   Belgium                        Primary/elementary school   \n",
       "1                     India  Master’s degree (M.A., M.S., M.Eng., MBA, etc.)   \n",
       "2                  Viet Nam     Bachelor’s degree (B.A., B.S., B.Eng., etc.)   \n",
       "3  United States of America     Bachelor’s degree (B.A., B.S., B.Eng., etc.)   \n",
       "4                     India  Master’s degree (M.A., M.S., M.Eng., MBA, etc.)   \n",
       "\n",
       "         YearsCodePro                                         Employment  \\\n",
       "0  More than 50 years                                I prefer not to say   \n",
       "1                  11  Employed, full-time;Independent contractor, fr...   \n",
       "2                   5                                Employed, full-time   \n",
       "3    Less than 1 year                                Employed, full-time   \n",
       "4                   2                                Employed, full-time   \n",
       "\n",
       "   Salary  \n",
       "0     1.0  \n",
       "1     1.0  \n",
       "2     1.0  \n",
       "3     1.0  \n",
       "4     1.0  "
      ]
     },
     "execution_count": 4,
     "metadata": {},
     "output_type": "execute_result"
    }
   ],
   "source": [
    "df = df[[\"Country\", \"EdLevel\", \"YearsCodePro\", \"Employment\", \"ConvertedCompYearly\"]]\n",
    "df = df.rename({\"ConvertedCompYearly\": \"Salary\"}, axis =1)\n",
    "df.head()"
   ]
  },
  {
   "cell_type": "code",
   "execution_count": 5,
   "id": "94495ba3",
   "metadata": {},
   "outputs": [
    {
     "data": {
      "text/html": [
       "<div>\n",
       "<style scoped>\n",
       "    .dataframe tbody tr th:only-of-type {\n",
       "        vertical-align: middle;\n",
       "    }\n",
       "\n",
       "    .dataframe tbody tr th {\n",
       "        vertical-align: top;\n",
       "    }\n",
       "\n",
       "    .dataframe thead th {\n",
       "        text-align: right;\n",
       "    }\n",
       "</style>\n",
       "<table border=\"1\" class=\"dataframe\">\n",
       "  <thead>\n",
       "    <tr style=\"text-align: right;\">\n",
       "      <th></th>\n",
       "      <th>Country</th>\n",
       "      <th>EdLevel</th>\n",
       "      <th>YearsCodePro</th>\n",
       "      <th>Employment</th>\n",
       "      <th>Salary</th>\n",
       "    </tr>\n",
       "  </thead>\n",
       "  <tbody>\n",
       "    <tr>\n",
       "      <th>0</th>\n",
       "      <td>Belgium</td>\n",
       "      <td>Primary/elementary school</td>\n",
       "      <td>More than 50 years</td>\n",
       "      <td>I prefer not to say</td>\n",
       "      <td>1.0</td>\n",
       "    </tr>\n",
       "    <tr>\n",
       "      <th>1</th>\n",
       "      <td>India</td>\n",
       "      <td>Master’s degree (M.A., M.S., M.Eng., MBA, etc.)</td>\n",
       "      <td>11</td>\n",
       "      <td>Employed, full-time;Independent contractor, fr...</td>\n",
       "      <td>1.0</td>\n",
       "    </tr>\n",
       "    <tr>\n",
       "      <th>2</th>\n",
       "      <td>Viet Nam</td>\n",
       "      <td>Bachelor’s degree (B.A., B.S., B.Eng., etc.)</td>\n",
       "      <td>5</td>\n",
       "      <td>Employed, full-time</td>\n",
       "      <td>1.0</td>\n",
       "    </tr>\n",
       "    <tr>\n",
       "      <th>3</th>\n",
       "      <td>United States of America</td>\n",
       "      <td>Bachelor’s degree (B.A., B.S., B.Eng., etc.)</td>\n",
       "      <td>Less than 1 year</td>\n",
       "      <td>Employed, full-time</td>\n",
       "      <td>1.0</td>\n",
       "    </tr>\n",
       "    <tr>\n",
       "      <th>4</th>\n",
       "      <td>India</td>\n",
       "      <td>Master’s degree (M.A., M.S., M.Eng., MBA, etc.)</td>\n",
       "      <td>2</td>\n",
       "      <td>Employed, full-time</td>\n",
       "      <td>1.0</td>\n",
       "    </tr>\n",
       "  </tbody>\n",
       "</table>\n",
       "</div>"
      ],
      "text/plain": [
       "                    Country                                          EdLevel  \\\n",
       "0                   Belgium                        Primary/elementary school   \n",
       "1                     India  Master’s degree (M.A., M.S., M.Eng., MBA, etc.)   \n",
       "2                  Viet Nam     Bachelor’s degree (B.A., B.S., B.Eng., etc.)   \n",
       "3  United States of America     Bachelor’s degree (B.A., B.S., B.Eng., etc.)   \n",
       "4                     India  Master’s degree (M.A., M.S., M.Eng., MBA, etc.)   \n",
       "\n",
       "         YearsCodePro                                         Employment  \\\n",
       "0  More than 50 years                                I prefer not to say   \n",
       "1                  11  Employed, full-time;Independent contractor, fr...   \n",
       "2                   5                                Employed, full-time   \n",
       "3    Less than 1 year                                Employed, full-time   \n",
       "4                   2                                Employed, full-time   \n",
       "\n",
       "   Salary  \n",
       "0     1.0  \n",
       "1     1.0  \n",
       "2     1.0  \n",
       "3     1.0  \n",
       "4     1.0  "
      ]
     },
     "execution_count": 5,
     "metadata": {},
     "output_type": "execute_result"
    }
   ],
   "source": [
    "df = df[df[\"Salary\"].notnull()]\n",
    "df.head()"
   ]
  },
  {
   "cell_type": "code",
   "execution_count": 6,
   "id": "d43ca6ab",
   "metadata": {},
   "outputs": [
    {
     "name": "stdout",
     "output_type": "stream",
     "text": [
      "<class 'pandas.core.frame.DataFrame'>\n",
      "Int64Index: 38071 entries, 0 to 38070\n",
      "Data columns (total 5 columns):\n",
      " #   Column        Non-Null Count  Dtype  \n",
      "---  ------        --------------  -----  \n",
      " 0   Country       38071 non-null  object \n",
      " 1   EdLevel       38054 non-null  object \n",
      " 2   YearsCodePro  37935 non-null  object \n",
      " 3   Employment    38067 non-null  object \n",
      " 4   Salary        38071 non-null  float64\n",
      "dtypes: float64(1), object(4)\n",
      "memory usage: 1.7+ MB\n"
     ]
    }
   ],
   "source": [
    "df.info()"
   ]
  },
  {
   "cell_type": "code",
   "execution_count": 7,
   "id": "bc5a4ff3",
   "metadata": {},
   "outputs": [
    {
     "data": {
      "text/plain": [
       "Country         0\n",
       "EdLevel         0\n",
       "YearsCodePro    0\n",
       "Employment      0\n",
       "Salary          0\n",
       "dtype: int64"
      ]
     },
     "execution_count": 7,
     "metadata": {},
     "output_type": "execute_result"
    }
   ],
   "source": [
    "df= df.dropna()\n",
    "df.isnull().sum()   #count no. of rows under each col which are null"
   ]
  },
  {
   "cell_type": "code",
   "execution_count": 8,
   "id": "692d30b0",
   "metadata": {},
   "outputs": [
    {
     "data": {
      "text/plain": [
       "Country         37919\n",
       "EdLevel         37919\n",
       "YearsCodePro    37919\n",
       "Employment      37919\n",
       "Salary          37919\n",
       "dtype: int64"
      ]
     },
     "execution_count": 8,
     "metadata": {},
     "output_type": "execute_result"
    }
   ],
   "source": [
    "df.count()"
   ]
  },
  {
   "cell_type": "code",
   "execution_count": 9,
   "id": "dcc38885",
   "metadata": {},
   "outputs": [
    {
     "name": "stdout",
     "output_type": "stream",
     "text": [
      "<class 'pandas.core.frame.DataFrame'>\n",
      "Int64Index: 31382 entries, 2 to 38069\n",
      "Data columns (total 4 columns):\n",
      " #   Column        Non-Null Count  Dtype  \n",
      "---  ------        --------------  -----  \n",
      " 0   Country       31382 non-null  object \n",
      " 1   EdLevel       31382 non-null  object \n",
      " 2   YearsCodePro  31382 non-null  object \n",
      " 3   Salary        31382 non-null  float64\n",
      "dtypes: float64(1), object(3)\n",
      "memory usage: 1.2+ MB\n"
     ]
    }
   ],
   "source": [
    "df = df[df[\"Employment\"] == \"Employed, full-time\"]\n",
    "df.count()\n",
    "df= df.drop(\"Employment\", axis=1)\n",
    "df.info()"
   ]
  },
  {
   "cell_type": "code",
   "execution_count": 10,
   "id": "4ae6590e",
   "metadata": {},
   "outputs": [
    {
     "data": {
      "text/plain": [
       "United States of America                                7858\n",
       "Germany                                                 2382\n",
       "United Kingdom of Great Britain and Northern Ireland    2341\n",
       "India                                                   1869\n",
       "Canada                                                  1249\n",
       "                                                        ... \n",
       "Fiji                                                       1\n",
       "Saint Lucia                                                1\n",
       "Suriname                                                   1\n",
       "Trinidad and Tobago                                        1\n",
       "Monaco                                                     1\n",
       "Name: Country, Length: 155, dtype: int64"
      ]
     },
     "execution_count": 10,
     "metadata": {},
     "output_type": "execute_result"
    }
   ],
   "source": [
    "df['Country'].value_counts()"
   ]
  },
  {
   "cell_type": "code",
   "execution_count": 11,
   "id": "fb0da7c8",
   "metadata": {},
   "outputs": [
    {
     "data": {
      "text/plain": [
       "2                        Viet Nam\n",
       "3        United States of America\n",
       "4                           India\n",
       "5                     South Korea\n",
       "7                           Japan\n",
       "                   ...           \n",
       "38063    United States of America\n",
       "38064    United States of America\n",
       "38065    United States of America\n",
       "38068    United States of America\n",
       "38069                    Portugal\n",
       "Name: Country, Length: 31382, dtype: object"
      ]
     },
     "execution_count": 11,
     "metadata": {},
     "output_type": "execute_result"
    }
   ],
   "source": [
    "\n",
    "df[\"Country\"]"
   ]
  },
  {
   "cell_type": "code",
   "execution_count": 12,
   "id": "379e0bf4",
   "metadata": {},
   "outputs": [
    {
     "name": "stdout",
     "output_type": "stream",
     "text": [
      "['Viet Nam', 'United States of America', 'India', 'South Korea', 'Japan', 'Pakistan', 'China', 'Lebanon', 'Colombia', 'Turkey', 'Germany', 'Qatar', 'Bangladesh', 'Egypt', 'Mexico', 'Kazakhstan', 'Saudi Arabia', 'Brazil', 'Tunisia', 'Indonesia', 'United Kingdom of Great Britain and Northern Ireland', 'Russian Federation', 'Kenya', 'Costa Rica', 'Malawi', 'France', 'Argentina', 'Hong Kong (S.A.R.)', 'Ethiopia', 'Chile', 'United Arab Emirates', 'Spain', 'Republic of Korea', 'Sweden', 'Albania', 'Armenia', 'New Zealand', 'Portugal', 'Italy', 'Hungary', 'Czech Republic', 'Canada', 'Dominican Republic', 'Jamaica', 'Nepal', 'Switzerland', 'Nigeria', 'Netherlands', 'Israel', 'Ireland', 'Andorra', 'Iran, Islamic Republic of...', 'Serbia', 'Thailand', 'Kyrgyzstan', 'Ukraine', 'Nicaragua', 'Myanmar', 'Singapore', 'Honduras', 'Uruguay', 'Cuba', 'Denmark', 'Mozambique', 'Sri Lanka', 'Uganda', 'Poland', 'Mali', \"Côte d'Ivoire\", 'Venezuela, Bolivarian Republic of...', 'Taiwan', 'Ghana', 'Afghanistan', 'Croatia', 'Morocco', 'South Africa', 'Tajikistan', 'United Republic of Tanzania', 'Greece', 'Sudan', 'Seychelles', 'Botswana', 'Togo', 'Bulgaria', 'Algeria', 'Trinidad and Tobago', 'Belarus', 'Syrian Arab Republic', 'Zimbabwe', 'Republic of Moldova', 'Cameroon', 'Guinea', 'Georgia', 'Peru', 'Uzbekistan', 'Zambia', 'Philippines', 'Mongolia', 'Guatemala', 'Benin', 'Madagascar', 'Romania', 'Paraguay', 'Austria', 'Mauritius', 'Senegal', 'Ecuador', 'Malaysia', 'Iraq', 'Azerbaijan', 'Bolivia', 'Jordan', 'Rwanda', 'Cambodia', 'Montenegro', 'The former Yugoslav Republic of Macedonia', 'Bhutan', 'Palau', 'Saint Lucia', 'Palestine', 'Suriname', 'Australia', 'Bosnia and Herzegovina', 'El Salvador', 'Kosovo', 'Belgium', 'Panama', 'Somalia', 'Turkmenistan', 'Slovakia', 'Lithuania', 'Latvia', 'Estonia', 'Guyana', 'Slovenia', 'Maldives', 'Bahrain', 'Norway', 'Cyprus', 'Fiji', 'Malta', 'Yemen', 'Finland', 'Democratic Republic of the Congo', 'Barbados', 'Oman', 'Nomadic', 'Iceland', 'Luxembourg', 'Isle of Man', 'Timor-Leste', 'Cape Verde', \"Lao People's Democratic Republic\", 'Haiti', 'Monaco']\n"
     ]
    }
   ],
   "source": [
    "#categories= df.Country.value_counts()\n",
    "#for i in range(len(categories)):\n",
    "#    print( categories.index[i], \" \", categories.values[i])\n",
    "import numpy as np\n",
    "a= list(df[\"Country\"].unique())\n",
    "print(a)"
   ]
  },
  {
   "cell_type": "code",
   "execution_count": 13,
   "id": "f358fb9e",
   "metadata": {},
   "outputs": [],
   "source": [
    "def shorten_categories( categories, cutoff):\n",
    "    categories_map={}\n",
    "    for i in range(len(categories)):\n",
    "        if( categories.values[i] >= cutoff):\n",
    "            categories_map[categories.index[i]]=  categories.index[i]\n",
    "        else:\n",
    "            categories_map[categories.index[i]] = 'Other'\n",
    "            \n",
    "    return categories_map"
   ]
  },
  {
   "cell_type": "code",
   "execution_count": 14,
   "id": "5d7c44ac",
   "metadata": {},
   "outputs": [
    {
     "data": {
      "text/plain": [
       "Other                                                   8643\n",
       "United States of America                                7858\n",
       "Germany                                                 2382\n",
       "United Kingdom of Great Britain and Northern Ireland    2341\n",
       "India                                                   1869\n",
       "Canada                                                  1249\n",
       "France                                                  1126\n",
       "Brazil                                                  1014\n",
       "Spain                                                    858\n",
       "Netherlands                                              701\n",
       "Australia                                                700\n",
       "Italy                                                    667\n",
       "Poland                                                   572\n",
       "Sweden                                                   561\n",
       "Russian Federation                                       425\n",
       "Switzerland                                              416\n",
       "Name: Country, dtype: int64"
      ]
     },
     "execution_count": 14,
     "metadata": {},
     "output_type": "execute_result"
    }
   ],
   "source": [
    "country_map= shorten_categories( df[\"Country\"].value_counts(), 400)\n",
    "df['Country'] = df['Country'].map(country_map)\n",
    "df.Country.value_counts()"
   ]
  },
  {
   "cell_type": "code",
   "execution_count": 15,
   "id": "5856a42f",
   "metadata": {},
   "outputs": [
    {
     "data": {
      "image/png": "[encoded data removed]",
      "text/plain": [
       "<Figure size 864x504 with 1 Axes>"
      ]
     },
     "metadata": {
      "needs_background": "light"
     },
     "output_type": "display_data"
    }
   ],
   "source": [
    "fig, ax = plt.subplots(1,1, figsize=(12,7))  # fig is assigned a 1row, 1 col figure\n",
    "# ax is a graph with width=16 and height=8\n",
    "\n",
    "# plt.ylim(0, .4* 1e6)\n",
    "df.boxplot('Salary', 'Country', ax=ax)  # the box represents the median salary\n",
    "plt.suptitle('Salary (US$) v Country')\n",
    "\n",
    "plt.title('')\n",
    "plt.ylabel('Salary')\n",
    "plt.xticks(rotation=90) # rotates the x labels( country names ) by 90deg+\n",
    "plt.show()"
   ]
  },
  {
   "cell_type": "code",
   "execution_count": 16,
   "id": "02617b11",
   "metadata": {},
   "outputs": [],
   "source": [
    "df = df[df.Salary <= 250000]\n",
    "df= df[df.Salary>=10000]\n",
    "df = df[df[\"Country\"] != 'Other']"
   ]
  },
  {
   "cell_type": "code",
   "execution_count": 17,
   "id": "67d510b9",
   "metadata": {},
   "outputs": [
    {
     "name": "stdout",
     "output_type": "stream",
     "text": [
      "['India', 'Germany', 'United States of America', 'Brazil', 'Italy', 'Poland', 'Switzerland', 'Russian Federation', 'France', 'Spain', 'United Kingdom of Great Britain and Northern Ireland', 'Sweden', 'Australia', 'Canada', 'Netherlands']\n"
     ]
    }
   ],
   "source": [
    "\n",
    "a= list(df[\"Country\"].unique())\n",
    "print(a)"
   ]
  },
  {
   "cell_type": "code",
   "execution_count": 18,
   "id": "3bb07c49",
   "metadata": {},
   "outputs": [
    {
     "data": {
      "text/plain": [
       "array(['2', '6', '22', '4', 'Less than 1 year', '7', '3', '30', '1', '5',\n",
       "       '12', '15', '9', '8', '11', '10', '16', '17', '36', '13', '34',\n",
       "       '23', '18', '25', '32', '14', '19', '20', '27', '31', '33', '29',\n",
       "       '26', '21', '35', '24', '40', '42', '37', '28', '38', '45',\n",
       "       'More than 50 years', '41', '47', '48', '49', '50', '46', '44',\n",
       "       '39', '43'], dtype=object)"
      ]
     },
     "execution_count": 18,
     "metadata": {},
     "output_type": "execute_result"
    }
   ],
   "source": [
    "df.YearsCodePro.unique()"
   ]
  },
  {
   "cell_type": "code",
   "execution_count": 19,
   "id": "9b560d81",
   "metadata": {},
   "outputs": [],
   "source": [
    "#we want to convert the dtype of \"YearsCodePro\" to float\n",
    "#for less than a year , we take 0.5\n",
    "#for more than 50 years , we take 50\n",
    "\n",
    "def clean_experience(x):\n",
    "    if( x==\"More than 50 years\"):\n",
    "        return 50\n",
    "    elif( x==\"Less than 1 year\"):\n",
    "        return 0.5\n",
    "    return float(x)\n",
    "\n",
    "df.YearsCodePro= df.YearsCodePro.apply(clean_experience)"
   ]
  },
  {
   "cell_type": "code",
   "execution_count": 20,
   "id": "ad3bf1a6",
   "metadata": {},
   "outputs": [
    {
     "data": {
      "text/plain": [
       "array(['Bachelor’s degree (B.A., B.S., B.Eng., etc.)',\n",
       "       'Master’s degree (M.A., M.S., M.Eng., MBA, etc.)',\n",
       "       'Secondary school (e.g. American high school, German Realschule or Gymnasium, etc.)',\n",
       "       'Some college/university study without earning a degree',\n",
       "       'Other doctoral degree (Ph.D., Ed.D., etc.)',\n",
       "       'Associate degree (A.A., A.S., etc.)',\n",
       "       'Professional degree (JD, MD, etc.)', 'Primary/elementary school',\n",
       "       'Something else'], dtype=object)"
      ]
     },
     "execution_count": 20,
     "metadata": {},
     "output_type": "execute_result"
    }
   ],
   "source": [
    "df.EdLevel.unique()"
   ]
  },
  {
   "cell_type": "code",
   "execution_count": 21,
   "id": "2b3c7399",
   "metadata": {},
   "outputs": [],
   "source": [
    "def clean_education(x):\n",
    "    if \"Bachelor’s degree\" in x:\n",
    "        return 'Bachelor’s degree'\n",
    "    if \"Master’s degree\" in x:\n",
    "        return 'Master’s degree'\n",
    "    if 'Professional degree' in x or 'Other doctoral' in x:\n",
    "        return 'Post grad'\n",
    "    return 'Less than a Bachelors'\n",
    "\n",
    "df['EdLevel'] = df['EdLevel'].apply(clean_education)"
   ]
  },
  {
   "cell_type": "code",
   "execution_count": 22,
   "id": "66d10f0b",
   "metadata": {},
   "outputs": [
    {
     "data": {
      "text/plain": [
       "array(['Bachelor’s degree', 'Master’s degree', 'Less than a Bachelors',\n",
       "       'Post grad'], dtype=object)"
      ]
     },
     "execution_count": 22,
     "metadata": {},
     "output_type": "execute_result"
    }
   ],
   "source": [
    "df.EdLevel.unique()"
   ]
  },
  {
   "cell_type": "code",
   "execution_count": 23,
   "id": "f1b4f10d",
   "metadata": {},
   "outputs": [
    {
     "name": "stderr",
     "output_type": "stream",
     "text": [
      "C:\\Users\\progc\\anaconda3\\envs\\ml\\lib\\site-packages\\scipy\\__init__.py:146: UserWarning: A NumPy version >=1.16.5 and <1.23.0 is required for this version of SciPy (detected version 1.23.1\n",
      "  warnings.warn(f\"A NumPy version >={np_minversion} and <{np_maxversion}\"\n"
     ]
    },
    {
     "data": {
      "text/plain": [
       "array([0, 2, 1, 3])"
      ]
     },
     "execution_count": 23,
     "metadata": {},
     "output_type": "execute_result"
    }
   ],
   "source": [
    "# encode edLevel to numbers\n",
    "\n",
    "from sklearn.preprocessing import LabelEncoder\n",
    "le_education = LabelEncoder()\n",
    "df[\"EdLevel\"]= le_education.fit_transform(df[\"EdLevel\"])\n",
    "df[\"EdLevel\"].unique()"
   ]
  },
  {
   "cell_type": "code",
   "execution_count": 24,
   "id": "81c6a0f2",
   "metadata": {},
   "outputs": [
    {
     "data": {
      "text/plain": [
       "array([ 5,  4, 14,  1,  6,  8, 12,  9,  3, 10, 13, 11,  0,  2,  7])"
      ]
     },
     "execution_count": 24,
     "metadata": {},
     "output_type": "execute_result"
    }
   ],
   "source": [
    "#encode country to numbers again\n",
    "\n",
    "from sklearn.preprocessing import LabelEncoder\n",
    "le_country = LabelEncoder()\n",
    "df[\"Country\"]= le_country.fit_transform(df[\"Country\"])\n",
    "df[\"Country\"].unique()"
   ]
  },
  {
   "cell_type": "code",
   "execution_count": 25,
   "id": "ba146942",
   "metadata": {},
   "outputs": [],
   "source": [
    "## divide our data into x and y axis\n",
    "\n",
    "X= df.drop(\"Salary\", axis=1)\n",
    "y= df[\"Salary\"]"
   ]
  },
  {
   "cell_type": "code",
   "execution_count": 26,
   "id": "4d92326d",
   "metadata": {},
   "outputs": [
    {
     "name": "stdout",
     "output_type": "stream",
     "text": [
      "       Country  EdLevel  YearsCodePro\n",
      "2657         5        0           2.0\n",
      "2674         5        2           6.0\n",
      "2676         5        0          22.0\n",
      "2677         5        0           4.0\n",
      "2678         5        0           4.0\n",
      "...        ...      ...           ...\n",
      "35363       14        0           9.0\n",
      "35364       14        0          14.0\n",
      "35365       14        1          45.0\n",
      "35366       14        0           7.0\n",
      "35367       14        0           4.0\n",
      "\n",
      "[19884 rows x 3 columns] 2657      10000.0\n",
      "2674      10056.0\n",
      "2676      10056.0\n",
      "2677      10056.0\n",
      "2678      10056.0\n",
      "           ...   \n",
      "35363    250000.0\n",
      "35364    250000.0\n",
      "35365    250000.0\n",
      "35366    250000.0\n",
      "35367    250000.0\n",
      "Name: Salary, Length: 19884, dtype: float64\n"
     ]
    }
   ],
   "source": [
    "print(X, y)"
   ]
  },
  {
   "cell_type": "code",
   "execution_count": 27,
   "id": "5dddadcf",
   "metadata": {},
   "outputs": [
    {
     "data": {
      "text/html": [
       "<style>#sk-container-id-1 {color: black;background-color: white;}#sk-container-id-1 pre{padding: 0;}#sk-container-id-1 div.sk-toggleable {background-color: white;}#sk-container-id-1 label.sk-toggleable__label {cursor: pointer;display: block;width: 100%;margin-bottom: 0;padding: 0.3em;box-sizing: border-box;text-align: center;}#sk-container-id-1 label.sk-toggleable__label-arrow:before {content: \"▸\";float: left;margin-right: 0.25em;color: #696969;}#sk-container-id-1 label.sk-toggleable__label-arrow:hover:before {color: black;}#sk-container-id-1 div.sk-estimator:hover label.sk-toggleable__label-arrow:before {color: black;}#sk-container-id-1 div.sk-toggleable__content {max-height: 0;max-width: 0;overflow: hidden;text-align: left;background-color: #f0f8ff;}#sk-container-id-1 div.sk-toggleable__content pre {margin: 0.2em;color: black;border-radius: 0.25em;background-color: #f0f8ff;}#sk-container-id-1 input.sk-toggleable__control:checked~div.sk-toggleable__content {max-height: 200px;max-width: 100%;overflow: auto;}#sk-container-id-1 input.sk-toggleable__control:checked~label.sk-toggleable__label-arrow:before {content: \"▾\";}#sk-container-id-1 div.sk-estimator input.sk-toggleable__control:checked~label.sk-toggleable__label {background-color: #d4ebff;}#sk-container-id-1 div.sk-label input.sk-toggleable__control:checked~label.sk-toggleable__label {background-color: #d4ebff;}#sk-container-id-1 input.sk-hidden--visually {border: 0;clip: rect(1px 1px 1px 1px);clip: rect(1px, 1px, 1px, 1px);height: 1px;margin: -1px;overflow: hidden;padding: 0;position: absolute;width: 1px;}#sk-container-id-1 div.sk-estimator {font-family: monospace;background-color: #f0f8ff;border: 1px dotted black;border-radius: 0.25em;box-sizing: border-box;margin-bottom: 0.5em;}#sk-container-id-1 div.sk-estimator:hover {background-color: #d4ebff;}#sk-container-id-1 div.sk-parallel-item::after {content: \"\";width: 100%;border-bottom: 1px solid gray;flex-grow: 1;}#sk-container-id-1 div.sk-label:hover label.sk-toggleable__label {background-color: #d4ebff;}#sk-container-id-1 div.sk-serial::before {content: \"\";position: absolute;border-left: 1px solid gray;box-sizing: border-box;top: 0;bottom: 0;left: 50%;z-index: 0;}#sk-container-id-1 div.sk-serial {display: flex;flex-direction: column;align-items: center;background-color: white;padding-right: 0.2em;padding-left: 0.2em;position: relative;}#sk-container-id-1 div.sk-item {position: relative;z-index: 1;}#sk-container-id-1 div.sk-parallel {display: flex;align-items: stretch;justify-content: center;background-color: white;position: relative;}#sk-container-id-1 div.sk-item::before, #sk-container-id-1 div.sk-parallel-item::before {content: \"\";position: absolute;border-left: 1px solid gray;box-sizing: border-box;top: 0;bottom: 0;left: 50%;z-index: -1;}#sk-container-id-1 div.sk-parallel-item {display: flex;flex-direction: column;z-index: 1;position: relative;background-color: white;}#sk-container-id-1 div.sk-parallel-item:first-child::after {align-self: flex-end;width: 50%;}#sk-container-id-1 div.sk-parallel-item:last-child::after {align-self: flex-start;width: 50%;}#sk-container-id-1 div.sk-parallel-item:only-child::after {width: 0;}#sk-container-id-1 div.sk-dashed-wrapped {border: 1px dashed gray;margin: 0 0.4em 0.5em 0.4em;box-sizing: border-box;padding-bottom: 0.4em;background-color: white;}#sk-container-id-1 div.sk-label label {font-family: monospace;font-weight: bold;display: inline-block;line-height: 1.2em;}#sk-container-id-1 div.sk-label-container {text-align: center;}#sk-container-id-1 div.sk-container {/* jupyter's `normalize.less` sets `[hidden] { display: none; }` but bootstrap.min.css set `[hidden] { display: none !important; }` so we also need the `!important` here to be able to override the default hidden behavior on the sphinx rendered scikit-learn.org. See: https://github.com/scikit-learn/scikit-learn/issues/21755 */display: inline-block !important;position: relative;}#sk-container-id-1 div.sk-text-repr-fallback {display: none;}</style><div id=\"sk-container-id-1\" class=\"sk-top-container\"><div class=\"sk-text-repr-fallback\"><pre>LinearRegression()</pre><b>In a Jupyter environment, please rerun this cell to show the HTML representation or trust the notebook. <br />On GitHub, the HTML representation is unable to render, please try loading this page with nbviewer.org.</b></div><div class=\"sk-container\" hidden><div class=\"sk-item\"><div class=\"sk-estimator sk-toggleable\"><input class=\"sk-toggleable__control sk-hidden--visually\" id=\"sk-estimator-id-1\" type=\"checkbox\" checked><label for=\"sk-estimator-id-1\" class=\"sk-toggleable__label sk-toggleable__label-arrow\">LinearRegression</label><div class=\"sk-toggleable__content\"><pre>LinearRegression()</pre></div></div></div></div></div>"
      ],
      "text/plain": [
       "LinearRegression()"
      ]
     },
     "execution_count": 27,
     "metadata": {},
     "output_type": "execute_result"
    }
   ],
   "source": [
    "## directly apply linear regression on the whole data\n",
    "## without dividing the dataset into training and test set\n",
    "# model 1: lINEAR REGRESSION\n",
    "\n",
    "from sklearn.linear_model import LinearRegression\n",
    "linear_reg= LinearRegression()\n",
    "linear_reg.fit(X, y.values)"
   ]
  },
  {
   "cell_type": "code",
   "execution_count": 28,
   "id": "4f956447",
   "metadata": {},
   "outputs": [
    {
     "name": "stdout",
     "output_type": "stream",
     "text": [
      "[ 57533.94360683  62636.39222963  95447.87591322 ... 182199.58104377\n",
      " 111403.27858088 105716.18873492]\n"
     ]
    }
   ],
   "source": [
    "y_pred = linear_reg.predict(X)\n",
    "print( y_pred)"
   ]
  },
  {
   "cell_type": "code",
   "execution_count": 29,
   "id": "766ed87f",
   "metadata": {},
   "outputs": [
    {
     "name": "stdout",
     "output_type": "stream",
     "text": [
      "44689.67485721425\n"
     ]
    }
   ],
   "source": [
    "# checking the deviation between actual and predicted salary\n",
    "\n",
    "from sklearn.metrics import mean_squared_error\n",
    "import numpy as np\n",
    "error = np.sqrt(mean_squared_error(y, y_pred))\n",
    "print( error)"
   ]
  },
  {
   "cell_type": "code",
   "execution_count": 30,
   "id": "58ed1e43",
   "metadata": {},
   "outputs": [],
   "source": [
    "## model 2: DECISION TREE REGRESSOR\n",
    "\n",
    "from sklearn.tree import DecisionTreeRegressor\n",
    "dec_tree_reg= DecisionTreeRegressor(random_state=0)\n",
    "dec_tree_reg.fit(X, y.values)\n",
    "y_pred= dec_tree_reg.predict(X)"
   ]
  },
  {
   "cell_type": "code",
   "execution_count": 31,
   "id": "0b6d0aef",
   "metadata": {},
   "outputs": [
    {
     "name": "stdout",
     "output_type": "stream",
     "text": [
      "$33,529.80\n"
     ]
    }
   ],
   "source": [
    "err= np.sqrt(mean_squared_error(y, y_pred))\n",
    "print(\"${:,.02f}\".format(err))"
   ]
  },
  {
   "cell_type": "code",
   "execution_count": null,
   "id": "191497e0",
   "metadata": {},
   "outputs": [],
   "source": []
  },
  {
   "cell_type": "code",
   "execution_count": 32,
   "id": "56ccf56c",
   "metadata": {},
   "outputs": [
    {
     "name": "stdout",
     "output_type": "stream",
     "text": [
      "$ 33,606.30\n"
     ]
    }
   ],
   "source": [
    "## model 3: RANDOM FOREST REGRESSOR\n",
    "\n",
    "from sklearn.ensemble import RandomForestRegressor\n",
    "random_forest_reg=  RandomForestRegressor(random_state=1)\n",
    "random_forest_reg.fit( X, y.values)\n",
    "\n",
    "y_pred = random_forest_reg.predict(X)\n",
    "\n",
    "#writing just for practice\n",
    "from sklearn.metrics import mean_squared_error\n",
    "err = np.sqrt(mean_squared_error(y, y_pred))\n",
    "print(\"${: ,.02f}\".format(err))"
   ]
  },
  {
   "cell_type": "code",
   "execution_count": null,
   "id": "69eb4776",
   "metadata": {},
   "outputs": [],
   "source": []
  },
  {
   "cell_type": "code",
   "execution_count": 33,
   "id": "c3dd6895",
   "metadata": {},
   "outputs": [
    {
     "data": {
      "text/html": [
       "<style>#sk-container-id-2 {color: black;background-color: white;}#sk-container-id-2 pre{padding: 0;}#sk-container-id-2 div.sk-toggleable {background-color: white;}#sk-container-id-2 label.sk-toggleable__label {cursor: pointer;display: block;width: 100%;margin-bottom: 0;padding: 0.3em;box-sizing: border-box;text-align: center;}#sk-container-id-2 label.sk-toggleable__label-arrow:before {content: \"▸\";float: left;margin-right: 0.25em;color: #696969;}#sk-container-id-2 label.sk-toggleable__label-arrow:hover:before {color: black;}#sk-container-id-2 div.sk-estimator:hover label.sk-toggleable__label-arrow:before {color: black;}#sk-container-id-2 div.sk-toggleable__content {max-height: 0;max-width: 0;overflow: hidden;text-align: left;background-color: #f0f8ff;}#sk-container-id-2 div.sk-toggleable__content pre {margin: 0.2em;color: black;border-radius: 0.25em;background-color: #f0f8ff;}#sk-container-id-2 input.sk-toggleable__control:checked~div.sk-toggleable__content {max-height: 200px;max-width: 100%;overflow: auto;}#sk-container-id-2 input.sk-toggleable__control:checked~label.sk-toggleable__label-arrow:before {content: \"▾\";}#sk-container-id-2 div.sk-estimator input.sk-toggleable__control:checked~label.sk-toggleable__label {background-color: #d4ebff;}#sk-container-id-2 div.sk-label input.sk-toggleable__control:checked~label.sk-toggleable__label {background-color: #d4ebff;}#sk-container-id-2 input.sk-hidden--visually {border: 0;clip: rect(1px 1px 1px 1px);clip: rect(1px, 1px, 1px, 1px);height: 1px;margin: -1px;overflow: hidden;padding: 0;position: absolute;width: 1px;}#sk-container-id-2 div.sk-estimator {font-family: monospace;background-color: #f0f8ff;border: 1px dotted black;border-radius: 0.25em;box-sizing: border-box;margin-bottom: 0.5em;}#sk-container-id-2 div.sk-estimator:hover {background-color: #d4ebff;}#sk-container-id-2 div.sk-parallel-item::after {content: \"\";width: 100%;border-bottom: 1px solid gray;flex-grow: 1;}#sk-container-id-2 div.sk-label:hover label.sk-toggleable__label {background-color: #d4ebff;}#sk-container-id-2 div.sk-serial::before {content: \"\";position: absolute;border-left: 1px solid gray;box-sizing: border-box;top: 0;bottom: 0;left: 50%;z-index: 0;}#sk-container-id-2 div.sk-serial {display: flex;flex-direction: column;align-items: center;background-color: white;padding-right: 0.2em;padding-left: 0.2em;position: relative;}#sk-container-id-2 div.sk-item {position: relative;z-index: 1;}#sk-container-id-2 div.sk-parallel {display: flex;align-items: stretch;justify-content: center;background-color: white;position: relative;}#sk-container-id-2 div.sk-item::before, #sk-container-id-2 div.sk-parallel-item::before {content: \"\";position: absolute;border-left: 1px solid gray;box-sizing: border-box;top: 0;bottom: 0;left: 50%;z-index: -1;}#sk-container-id-2 div.sk-parallel-item {display: flex;flex-direction: column;z-index: 1;position: relative;background-color: white;}#sk-container-id-2 div.sk-parallel-item:first-child::after {align-self: flex-end;width: 50%;}#sk-container-id-2 div.sk-parallel-item:last-child::after {align-self: flex-start;width: 50%;}#sk-container-id-2 div.sk-parallel-item:only-child::after {width: 0;}#sk-container-id-2 div.sk-dashed-wrapped {border: 1px dashed gray;margin: 0 0.4em 0.5em 0.4em;box-sizing: border-box;padding-bottom: 0.4em;background-color: white;}#sk-container-id-2 div.sk-label label {font-family: monospace;font-weight: bold;display: inline-block;line-height: 1.2em;}#sk-container-id-2 div.sk-label-container {text-align: center;}#sk-container-id-2 div.sk-container {/* jupyter's `normalize.less` sets `[hidden] { display: none; }` but bootstrap.min.css set `[hidden] { display: none !important; }` so we also need the `!important` here to be able to override the default hidden behavior on the sphinx rendered scikit-learn.org. See: https://github.com/scikit-learn/scikit-learn/issues/21755 */display: inline-block !important;position: relative;}#sk-container-id-2 div.sk-text-repr-fallback {display: none;}</style><div id=\"sk-container-id-2\" class=\"sk-top-container\"><div class=\"sk-text-repr-fallback\"><pre>GridSearchCV(estimator=DecisionTreeRegressor(random_state=1),\n",
       "             param_grid={&#x27;max_depth&#x27;: [None, 2, 4, 6, 8, 10, 12]},\n",
       "             scoring=&#x27;neg_mean_squared_error&#x27;)</pre><b>In a Jupyter environment, please rerun this cell to show the HTML representation or trust the notebook. <br />On GitHub, the HTML representation is unable to render, please try loading this page with nbviewer.org.</b></div><div class=\"sk-container\" hidden><div class=\"sk-item sk-dashed-wrapped\"><div class=\"sk-label-container\"><div class=\"sk-label sk-toggleable\"><input class=\"sk-toggleable__control sk-hidden--visually\" id=\"sk-estimator-id-2\" type=\"checkbox\" ><label for=\"sk-estimator-id-2\" class=\"sk-toggleable__label sk-toggleable__label-arrow\">GridSearchCV</label><div class=\"sk-toggleable__content\"><pre>GridSearchCV(estimator=DecisionTreeRegressor(random_state=1),\n",
       "             param_grid={&#x27;max_depth&#x27;: [None, 2, 4, 6, 8, 10, 12]},\n",
       "             scoring=&#x27;neg_mean_squared_error&#x27;)</pre></div></div></div><div class=\"sk-parallel\"><div class=\"sk-parallel-item\"><div class=\"sk-item\"><div class=\"sk-label-container\"><div class=\"sk-label sk-toggleable\"><input class=\"sk-toggleable__control sk-hidden--visually\" id=\"sk-estimator-id-3\" type=\"checkbox\" ><label for=\"sk-estimator-id-3\" class=\"sk-toggleable__label sk-toggleable__label-arrow\">estimator: DecisionTreeRegressor</label><div class=\"sk-toggleable__content\"><pre>DecisionTreeRegressor(random_state=1)</pre></div></div></div><div class=\"sk-serial\"><div class=\"sk-item\"><div class=\"sk-estimator sk-toggleable\"><input class=\"sk-toggleable__control sk-hidden--visually\" id=\"sk-estimator-id-4\" type=\"checkbox\" ><label for=\"sk-estimator-id-4\" class=\"sk-toggleable__label sk-toggleable__label-arrow\">DecisionTreeRegressor</label><div class=\"sk-toggleable__content\"><pre>DecisionTreeRegressor(random_state=1)</pre></div></div></div></div></div></div></div></div></div></div>"
      ],
      "text/plain": [
       "GridSearchCV(estimator=DecisionTreeRegressor(random_state=1),\n",
       "             param_grid={'max_depth': [None, 2, 4, 6, 8, 10, 12]},\n",
       "             scoring='neg_mean_squared_error')"
      ]
     },
     "execution_count": 33,
     "metadata": {},
     "output_type": "execute_result"
    }
   ],
   "source": [
    "# library for selecting best model for our set of data\n",
    "\n",
    "from sklearn.model_selection import GridSearchCV  #CV => cross validation\n",
    "\n",
    "max_depth = [None, 2,4, 6,8, 10, 12]\n",
    "parameters ={\"max_depth\" : max_depth}\n",
    "\n",
    "regressor = DecisionTreeRegressor(random_state=1)\n",
    "gs= GridSearchCV(regressor, parameters, scoring='neg_mean_squared_error')\n",
    "gs.fit(X, y.values)"
   ]
  },
  {
   "cell_type": "code",
   "execution_count": 34,
   "id": "e9ba0aa8",
   "metadata": {},
   "outputs": [
    {
     "name": "stdout",
     "output_type": "stream",
     "text": [
      "$ 36065.10\n"
     ]
    }
   ],
   "source": [
    "regressor= gs.best_estimator_\n",
    "\n",
    "regressor.fit(X, y.values)\n",
    "y_pred= regressor.predict(X)\n",
    "error  = np.sqrt(mean_squared_error(y, y_pred))\n",
    "print( \"${: .2f}\".format(error))\n"
   ]
  },
  {
   "cell_type": "code",
   "execution_count": 35,
   "id": "cf32b843",
   "metadata": {},
   "outputs": [
    {
     "data": {
      "text/html": [
       "<div>\n",
       "<style scoped>\n",
       "    .dataframe tbody tr th:only-of-type {\n",
       "        vertical-align: middle;\n",
       "    }\n",
       "\n",
       "    .dataframe tbody tr th {\n",
       "        vertical-align: top;\n",
       "    }\n",
       "\n",
       "    .dataframe thead th {\n",
       "        text-align: right;\n",
       "    }\n",
       "</style>\n",
       "<table border=\"1\" class=\"dataframe\">\n",
       "  <thead>\n",
       "    <tr style=\"text-align: right;\">\n",
       "      <th></th>\n",
       "      <th>Country</th>\n",
       "      <th>EdLevel</th>\n",
       "      <th>YearsCodePro</th>\n",
       "    </tr>\n",
       "  </thead>\n",
       "  <tbody>\n",
       "    <tr>\n",
       "      <th>2657</th>\n",
       "      <td>5</td>\n",
       "      <td>0</td>\n",
       "      <td>2.0</td>\n",
       "    </tr>\n",
       "    <tr>\n",
       "      <th>2674</th>\n",
       "      <td>5</td>\n",
       "      <td>2</td>\n",
       "      <td>6.0</td>\n",
       "    </tr>\n",
       "    <tr>\n",
       "      <th>2676</th>\n",
       "      <td>5</td>\n",
       "      <td>0</td>\n",
       "      <td>22.0</td>\n",
       "    </tr>\n",
       "    <tr>\n",
       "      <th>2677</th>\n",
       "      <td>5</td>\n",
       "      <td>0</td>\n",
       "      <td>4.0</td>\n",
       "    </tr>\n",
       "    <tr>\n",
       "      <th>2678</th>\n",
       "      <td>5</td>\n",
       "      <td>0</td>\n",
       "      <td>4.0</td>\n",
       "    </tr>\n",
       "    <tr>\n",
       "      <th>...</th>\n",
       "      <td>...</td>\n",
       "      <td>...</td>\n",
       "      <td>...</td>\n",
       "    </tr>\n",
       "    <tr>\n",
       "      <th>35363</th>\n",
       "      <td>14</td>\n",
       "      <td>0</td>\n",
       "      <td>9.0</td>\n",
       "    </tr>\n",
       "    <tr>\n",
       "      <th>35364</th>\n",
       "      <td>14</td>\n",
       "      <td>0</td>\n",
       "      <td>14.0</td>\n",
       "    </tr>\n",
       "    <tr>\n",
       "      <th>35365</th>\n",
       "      <td>14</td>\n",
       "      <td>1</td>\n",
       "      <td>45.0</td>\n",
       "    </tr>\n",
       "    <tr>\n",
       "      <th>35366</th>\n",
       "      <td>14</td>\n",
       "      <td>0</td>\n",
       "      <td>7.0</td>\n",
       "    </tr>\n",
       "    <tr>\n",
       "      <th>35367</th>\n",
       "      <td>14</td>\n",
       "      <td>0</td>\n",
       "      <td>4.0</td>\n",
       "    </tr>\n",
       "  </tbody>\n",
       "</table>\n",
       "<p>19884 rows × 3 columns</p>\n",
       "</div>"
      ],
      "text/plain": [
       "       Country  EdLevel  YearsCodePro\n",
       "2657         5        0           2.0\n",
       "2674         5        2           6.0\n",
       "2676         5        0          22.0\n",
       "2677         5        0           4.0\n",
       "2678         5        0           4.0\n",
       "...        ...      ...           ...\n",
       "35363       14        0           9.0\n",
       "35364       14        0          14.0\n",
       "35365       14        1          45.0\n",
       "35366       14        0           7.0\n",
       "35367       14        0           4.0\n",
       "\n",
       "[19884 rows x 3 columns]"
      ]
     },
     "execution_count": 35,
     "metadata": {},
     "output_type": "execute_result"
    }
   ],
   "source": [
    "X\n"
   ]
  },
  {
   "cell_type": "code",
   "execution_count": 36,
   "id": "ea34bac5",
   "metadata": {},
   "outputs": [
    {
     "data": {
      "text/plain": [
       "array([['India', 'Master’s degree', '15']], dtype='<U15')"
      ]
     },
     "execution_count": 36,
     "metadata": {},
     "output_type": "execute_result"
    }
   ],
   "source": [
    "X = np.array([[\"India\", \"Master’s degree\", 15]])\n",
    "X"
   ]
  },
  {
   "cell_type": "code",
   "execution_count": 37,
   "id": "01fbfd57",
   "metadata": {},
   "outputs": [
    {
     "data": {
      "text/plain": [
       "array([[ 5.,  2., 15.]])"
      ]
     },
     "execution_count": 37,
     "metadata": {},
     "output_type": "execute_result"
    }
   ],
   "source": [
    "## tranforming the col names to the encoded numbers\n",
    "\n",
    "X[:, 0]= le_country.transform(X[:, 0])\n",
    "X[:, 1]= le_education.transform(X[:, 1])\n",
    "X= X.astype(float)\n",
    "X"
   ]
  },
  {
   "cell_type": "code",
   "execution_count": 38,
   "id": "f44c215e",
   "metadata": {},
   "outputs": [
    {
     "name": "stderr",
     "output_type": "stream",
     "text": [
      "C:\\Users\\progc\\anaconda3\\envs\\ml\\lib\\site-packages\\sklearn\\base.py:450: UserWarning: X does not have valid feature names, but DecisionTreeRegressor was fitted with feature names\n",
      "  warnings.warn(\n"
     ]
    },
    {
     "data": {
      "text/plain": [
       "array([45511.35285914])"
      ]
     },
     "execution_count": 38,
     "metadata": {},
     "output_type": "execute_result"
    }
   ],
   "source": [
    "y_pred= regressor.predict(X)\n",
    "y_pred"
   ]
  },
  {
   "cell_type": "code",
   "execution_count": null,
   "id": "ec35593c",
   "metadata": {},
   "outputs": [],
   "source": []
  },
  {
   "cell_type": "code",
   "execution_count": 39,
   "id": "6632c46b",
   "metadata": {},
   "outputs": [],
   "source": [
    "## save our model using pickle\n",
    "\n",
    "import pickle\n"
   ]
  },
  {
   "cell_type": "code",
   "execution_count": 40,
   "id": "69f2e7da",
   "metadata": {},
   "outputs": [],
   "source": [
    "## create a dictionary and writing data to a file\n",
    "data = {\"model\": regressor, \"le_country\": le_country, \"le_education\": le_education}\n",
    "with open('saved_steps.pkl', 'wb') as file:\n",
    "    pickle.dump(data, file)"
   ]
  },
  {
   "cell_type": "code",
   "execution_count": 41,
   "id": "8c7f666b",
   "metadata": {},
   "outputs": [],
   "source": [
    "## read our created file\n",
    "\n",
    "with open( 'saved_steps.pkl', 'rb') as file:\n",
    "    data = pickle.load(file)\n",
    "\n",
    "regressor_loaded = data[\"model\"]\n",
    "le_country= data['le_country']\n",
    "le_education = data['le_education']"
   ]
  },
  {
   "cell_type": "code",
   "execution_count": 42,
   "id": "1eb3a47f",
   "metadata": {},
   "outputs": [
    {
     "name": "stdout",
     "output_type": "stream",
     "text": [
      "[45511.35285914]\n"
     ]
    },
    {
     "name": "stderr",
     "output_type": "stream",
     "text": [
      "C:\\Users\\progc\\anaconda3\\envs\\ml\\lib\\site-packages\\sklearn\\base.py:450: UserWarning: X does not have valid feature names, but DecisionTreeRegressor was fitted with feature names\n",
      "  warnings.warn(\n"
     ]
    }
   ],
   "source": [
    "y_pred = regressor_loaded.predict(X)\n",
    "print(y_pred)"
   ]
  },
  {
   "cell_type": "code",
   "execution_count": null,
   "id": "604acfeb",
   "metadata": {},
   "outputs": [],
   "source": []
  }
 ],
 "metadata": {
  "kernelspec": {
   "display_name": "ml",
   "language": "python",
   "name": "ml"
  },
  "language_info": {
   "codemirror_mode": {
    "name": "ipython",
    "version": 3
   },
   "file_extension": ".py",
   "mimetype": "text/x-python",
   "name": "python",
   "nbconvert_exporter": "python",
   "pygments_lexer": "ipython3",
   "version": "3.10.4"
  }
 },
 "nbformat": 4,
 "nbformat_minor": 5
}
